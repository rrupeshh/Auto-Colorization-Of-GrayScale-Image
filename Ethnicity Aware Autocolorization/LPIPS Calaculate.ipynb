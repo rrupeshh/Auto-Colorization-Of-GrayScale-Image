{
 "cells": [
  {
   "cell_type": "code",
   "execution_count": 6,
   "id": "7177fa8e-c851-4efd-a78a-0da5e55151ee",
   "metadata": {},
   "outputs": [
    {
     "name": "stdout",
     "output_type": "stream",
     "text": [
      "Setting up [LPIPS] perceptual loss: trunk [alex], v[0.1], spatial [off]\n",
      "Loading model from: C:\\Users\\Codniv\\anaconda3\\envs\\tf\\lib\\site-packages\\lpips\\weights\\v0.1\\alex.pth\n",
      "Perceptual similarity score between the images: 0.07739768922328949\n"
     ]
    }
   ],
   "source": [
    "import lpips\n",
    "import torch\n",
    "from PIL import Image\n",
    "from torchvision import transforms\n",
    "\n",
    "# Initialize the LPIPS model\n",
    "lpips_model = lpips.LPIPS(net='alex')  # You can use 'alex', 'vgg', or 'squeeze'\n",
    "\n",
    "# Function to load and preprocess images\n",
    "def load_image(image_path):\n",
    "    transform = transforms.Compose([\n",
    "        transforms.Resize((256, 256)),\n",
    "        transforms.ToTensor(),\n",
    "        transforms.Normalize(mean=[0.5, 0.5, 0.5], std=[0.5, 0.5, 0.5])\n",
    "    ])\n",
    "    image = Image.open(image_path).convert('RGB')\n",
    "    return transform(image).unsqueeze(0)  # Add batch dimension\n",
    "\n",
    "# Load the images from the test folder\n",
    "img1_path = 'test/4.jpeg'  # Replace with your image file path\n",
    "img2_path = 'test/10.jpeg'  # Replace with your image file path\n",
    "\n",
    "img1 = load_image(img1_path)\n",
    "img2 = load_image(img2_path)\n",
    "\n",
    "# Compute the LPIPS score\n",
    "with torch.no_grad():\n",
    "    distance = lpips_model(img1, img2)\n",
    "\n",
    "print(f'Perceptual similarity score between the images: {distance.item()}')\n"
   ]
  }
 ],
 "metadata": {
  "kernelspec": {
   "display_name": "Python [conda env:base] *",
   "language": "python",
   "name": "conda-base-py"
  },
  "language_info": {
   "codemirror_mode": {
    "name": "ipython",
    "version": 3
   },
   "file_extension": ".py",
   "mimetype": "text/x-python",
   "name": "python",
   "nbconvert_exporter": "python",
   "pygments_lexer": "ipython3",
   "version": "3.12.7"
  }
 },
 "nbformat": 4,
 "nbformat_minor": 5
}
